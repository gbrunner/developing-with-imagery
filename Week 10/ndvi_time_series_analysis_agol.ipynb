{
 "cells": [
  {
   "cell_type": "markdown",
   "metadata": {},
   "source": [
    "# Working with Landsat Thematic Mapper Imagery over Time\n"
   ]
  },
  {
   "cell_type": "markdown",
   "metadata": {},
   "source": [
    "![](http://esri.github.io/arcgis-python-api/notebooks/nbimages/02_change_detection_app_01.gif)"
   ]
  },
  {
   "cell_type": "markdown",
   "metadata": {},
   "source": [
    "# Questions\n",
    "- How does land change manifest itself in time-series of multispectral imagery?\n",
    "- Can you identify when a significant disturbance occurred?"
   ]
  },
  {
   "cell_type": "markdown",
   "metadata": {},
   "source": [
    "# Let's explore Landsat TM Data over a period of 30 years!\n",
    "\n",
    "- About 20 years ago, my house was on farmland \n",
    "- Can we use the 30 years of TM data to identify when development occurred? "
   ]
  },
  {
   "cell_type": "markdown",
   "metadata": {},
   "source": [
    "# Let's log into Portal to and access our Landsat TM NDVI service"
   ]
  },
  {
   "cell_type": "code",
   "execution_count": 2,
   "metadata": {},
   "outputs": [],
   "source": [
    "from arcgis.features import SpatialDataFrame\n",
    "from arcgis.raster.functions import *\n",
    "from arcgis.raster import ImageryLayer\n",
    "from arcgis.geometry import Geometry\n",
    "from arcgis.geometry import Point\n",
    "from arcgis.gis import GIS\n",
    "\n",
    "gis = GIS('http://www.arcgis.com')"
   ]
  },
  {
   "cell_type": "code",
   "execution_count": 4,
   "metadata": {},
   "outputs": [],
   "source": [
    "ndvi_svc =\"https://fedciv.esri.com/imageserver/rest/services/LandsatTM_NDVI/ImageServer\"\n",
    "ndvi_lyr = ImageryLayer(ndvi_svc, gis=gis)"
   ]
  },
  {
   "cell_type": "code",
   "execution_count": 13,
   "metadata": {},
   "outputs": [],
   "source": [
    "ms_svc = \"https://landsat2.arcgis.com/arcgis/rest/services/LandsatGLS/MS/ImageServer\"\n",
    "ms_lyr = ImageryLayer(ms_svc, gis=gis)"
   ]
  },
  {
   "cell_type": "markdown",
   "metadata": {},
   "source": [
    "# O'Fallon, MO"
   ]
  },
  {
   "cell_type": "code",
   "execution_count": 4,
   "metadata": {},
   "outputs": [],
   "source": [
    "geometry = Point({\"x\" :-10093991.604, \"y\" : 4689459.491, \"spatialReference\" : {\"wkid\" : 102100}})"
   ]
  },
  {
   "cell_type": "code",
   "execution_count": 5,
   "metadata": {},
   "outputs": [
    {
     "data": {
      "application/vnd.jupyter.widget-view+json": {
       "model_id": "d02f8049983240b8b59edc6798b58e6e",
       "version_major": 2,
       "version_minor": 0
      },
      "text/plain": [
       "MapView(layout=Layout(height='400px', width='100%'))"
      ]
     },
     "metadata": {},
     "output_type": "display_data"
    }
   ],
   "source": [
    "map1 = gis.map(\"122 Arabian Path, O'Fallon, MO, USA\")\n",
    "map1"
   ]
  },
  {
   "cell_type": "code",
   "execution_count": 6,
   "metadata": {},
   "outputs": [],
   "source": [
    "map1.basemap = 'satellite'"
   ]
  },
  {
   "cell_type": "code",
   "execution_count": 7,
   "metadata": {},
   "outputs": [],
   "source": [
    "symbol = {\"color\":[128,0,0,128],\n",
    "                    \"size\":18,\n",
    "                    \"angle\":0,\n",
    "                    \"xoffset\":0,\n",
    "                    \"yoffset\":0,\n",
    "                    \"type\":\"esriSMS\",\n",
    "                    \"style\":\n",
    "                    \"esriSMSCircle\",\n",
    "                    \"outline\":\n",
    "                        {\"color\":[128,0,0,255],\n",
    "                         \"width\":1,\n",
    "                         \"type\":\"esriSLS\",\n",
    "                         \"style\":\"esriSLSSolid\"}\n",
    "}"
   ]
  },
  {
   "cell_type": "code",
   "execution_count": 8,
   "metadata": {},
   "outputs": [],
   "source": [
    "map1.draw(geometry, symbol=symbol)"
   ]
  },
  {
   "cell_type": "code",
   "execution_count": 9,
   "metadata": {},
   "outputs": [],
   "source": [
    "map1.zoom = 14"
   ]
  },
  {
   "cell_type": "markdown",
   "metadata": {},
   "source": [
    "# How many rasters are over O'Fallon, MO?"
   ]
  },
  {
   "cell_type": "markdown",
   "metadata": {},
   "source": [
    "## Let's get the table as a dataframe and query all the pixels"
   ]
  },
  {
   "cell_type": "code",
   "execution_count": 14,
   "metadata": {},
   "outputs": [],
   "source": [
    "from arcgis.geometry import filters\n",
    "\n",
    "geometry = Point({\"x\" :-10093991.604, \"y\" : 4689459.491, \"spatialReference\" : {\"wkid\" : 102100}})\n",
    "\n",
    "sp_filter = filters.intersects(geometry=geometry)\n",
    "\n",
    "im_sdf = ms_lyr.query(geometry_filter=sp_filter, return_all_records=True).df"
   ]
  },
  {
   "cell_type": "code",
   "execution_count": 15,
   "metadata": {},
   "outputs": [
    {
     "data": {
      "text/plain": [
       "57"
      ]
     },
     "execution_count": 15,
     "metadata": {},
     "output_type": "execute_result"
    }
   ],
   "source": [
    "len(im_sdf)"
   ]
  },
  {
   "cell_type": "code",
   "execution_count": 16,
   "metadata": {},
   "outputs": [
    {
     "data": {
      "text/html": [
       "<div>\n",
       "<style scoped>\n",
       "    .dataframe tbody tr th:only-of-type {\n",
       "        vertical-align: middle;\n",
       "    }\n",
       "\n",
       "    .dataframe tbody tr th {\n",
       "        vertical-align: top;\n",
       "    }\n",
       "\n",
       "    .dataframe thead th {\n",
       "        text-align: right;\n",
       "    }\n",
       "</style>\n",
       "<table border=\"1\" class=\"dataframe\">\n",
       "  <thead>\n",
       "    <tr style=\"text-align: right;\">\n",
       "      <th></th>\n",
       "      <th>AcquisitionDate</th>\n",
       "      <th>Best</th>\n",
       "      <th>Category</th>\n",
       "      <th>CenterX</th>\n",
       "      <th>CenterY</th>\n",
       "      <th>CloudCover</th>\n",
       "      <th>DateUpdated</th>\n",
       "      <th>DayOfYear</th>\n",
       "      <th>GroupName</th>\n",
       "      <th>HighPS</th>\n",
       "      <th>...</th>\n",
       "      <th>ProductName</th>\n",
       "      <th>SensorName</th>\n",
       "      <th>Shape_Area</th>\n",
       "      <th>Shape_Length</th>\n",
       "      <th>SunAzimuth</th>\n",
       "      <th>SunElevation</th>\n",
       "      <th>WRS_Path</th>\n",
       "      <th>WRS_Row</th>\n",
       "      <th>dataset_id</th>\n",
       "      <th>SHAPE</th>\n",
       "    </tr>\n",
       "  </thead>\n",
       "  <tbody>\n",
       "    <tr>\n",
       "      <th>0</th>\n",
       "      <td>1277942400000</td>\n",
       "      <td>72976033</td>\n",
       "      <td>1</td>\n",
       "      <td>-1.010793e+07</td>\n",
       "      <td>4.707152e+06</td>\n",
       "      <td>0.0</td>\n",
       "      <td>None</td>\n",
       "      <td>182.0</td>\n",
       "      <td>L5024033_03320100701</td>\n",
       "      <td>120.0</td>\n",
       "      <td>...</td>\n",
       "      <td>L1T</td>\n",
       "      <td>LANDSAT-5-TM</td>\n",
       "      <td>5.364016e+10</td>\n",
       "      <td>9.275399e+05</td>\n",
       "      <td>121.3225</td>\n",
       "      <td>64.44746</td>\n",
       "      <td>24.0</td>\n",
       "      <td>33.0</td>\n",
       "      <td>GLS-2010</td>\n",
       "      <td>{'rings': [[[-9962833.3609, 4792706.126100004]...</td>\n",
       "    </tr>\n",
       "    <tr>\n",
       "      <th>1</th>\n",
       "      <td>1262304000000</td>\n",
       "      <td>112000000</td>\n",
       "      <td>2</td>\n",
       "      <td>-1.005351e+07</td>\n",
       "      <td>4.319069e+06</td>\n",
       "      <td>NaN</td>\n",
       "      <td>None</td>\n",
       "      <td>NaN</td>\n",
       "      <td>Ov_i04_L01_R00000016_C00000006GLS-2010</td>\n",
       "      <td>300.0</td>\n",
       "      <td>...</td>\n",
       "      <td></td>\n",
       "      <td>None</td>\n",
       "      <td>2.359296e+12</td>\n",
       "      <td>6.144000e+06</td>\n",
       "      <td>NaN</td>\n",
       "      <td>NaN</td>\n",
       "      <td>NaN</td>\n",
       "      <td>NaN</td>\n",
       "      <td>GLS-2010</td>\n",
       "      <td>{'rings': [[[-9285507.0672, 3551069.3966000006...</td>\n",
       "    </tr>\n",
       "    <tr>\n",
       "      <th>2</th>\n",
       "      <td>1262304000000</td>\n",
       "      <td>112000000</td>\n",
       "      <td>2</td>\n",
       "      <td>-9.285507e+06</td>\n",
       "      <td>5.087069e+06</td>\n",
       "      <td>NaN</td>\n",
       "      <td>None</td>\n",
       "      <td>NaN</td>\n",
       "      <td>Ov_i04_L02_R0000000B_C00000003GLS-2010</td>\n",
       "      <td>600.0</td>\n",
       "      <td>...</td>\n",
       "      <td></td>\n",
       "      <td>None</td>\n",
       "      <td>9.437184e+12</td>\n",
       "      <td>1.228800e+07</td>\n",
       "      <td>NaN</td>\n",
       "      <td>NaN</td>\n",
       "      <td>NaN</td>\n",
       "      <td>NaN</td>\n",
       "      <td>GLS-2010</td>\n",
       "      <td>{'rings': [[[-7749507.0671999995, 3551069.3966...</td>\n",
       "    </tr>\n",
       "  </tbody>\n",
       "</table>\n",
       "<p>3 rows × 28 columns</p>\n",
       "</div>"
      ],
      "text/plain": [
       "   AcquisitionDate       Best  Category       CenterX       CenterY  \\\n",
       "0    1277942400000   72976033         1 -1.010793e+07  4.707152e+06   \n",
       "1    1262304000000  112000000         2 -1.005351e+07  4.319069e+06   \n",
       "2    1262304000000  112000000         2 -9.285507e+06  5.087069e+06   \n",
       "\n",
       "   CloudCover DateUpdated  DayOfYear                               GroupName  \\\n",
       "0         0.0        None      182.0                    L5024033_03320100701   \n",
       "1         NaN        None        NaN  Ov_i04_L01_R00000016_C00000006GLS-2010   \n",
       "2         NaN        None        NaN  Ov_i04_L02_R0000000B_C00000003GLS-2010   \n",
       "\n",
       "   HighPS                        ...                          ProductName  \\\n",
       "0   120.0                        ...                                  L1T   \n",
       "1   300.0                        ...                                        \n",
       "2   600.0                        ...                                        \n",
       "\n",
       "     SensorName    Shape_Area  Shape_Length  SunAzimuth SunElevation  \\\n",
       "0  LANDSAT-5-TM  5.364016e+10  9.275399e+05    121.3225     64.44746   \n",
       "1          None  2.359296e+12  6.144000e+06         NaN          NaN   \n",
       "2          None  9.437184e+12  1.228800e+07         NaN          NaN   \n",
       "\n",
       "   WRS_Path  WRS_Row dataset_id  \\\n",
       "0      24.0     33.0   GLS-2010   \n",
       "1       NaN      NaN   GLS-2010   \n",
       "2       NaN      NaN   GLS-2010   \n",
       "\n",
       "                                               SHAPE  \n",
       "0  {'rings': [[[-9962833.3609, 4792706.126100004]...  \n",
       "1  {'rings': [[[-9285507.0672, 3551069.3966000006...  \n",
       "2  {'rings': [[[-7749507.0671999995, 3551069.3966...  \n",
       "\n",
       "[3 rows x 28 columns]"
      ]
     },
     "execution_count": 16,
     "metadata": {},
     "output_type": "execute_result"
    }
   ],
   "source": [
    "im_sdf.head(3)"
   ]
  },
  {
   "cell_type": "markdown",
   "metadata": {},
   "source": [
    "# Let's turn Unix time into a date\\time"
   ]
  },
  {
   "cell_type": "code",
   "execution_count": 18,
   "metadata": {},
   "outputs": [
    {
     "data": {
      "text/plain": [
       "52   1975-01-01\n",
       "53   1975-01-01\n",
       "54   1975-01-01\n",
       "55   1976-09-11\n",
       "56   1979-09-24\n",
       "Name: Date, dtype: datetime64[ns]"
      ]
     },
     "execution_count": 18,
     "metadata": {},
     "output_type": "execute_result"
    }
   ],
   "source": [
    "import pandas as pd\n",
    "\n",
    "im_sdf['Date'] =  pd.to_datetime(im_sdf['AcquisitionDate'], unit='ms')\n",
    "im_sdf['Date'].tail()"
   ]
  },
  {
   "cell_type": "markdown",
   "metadata": {},
   "source": [
    "# Let's Look at Some Images"
   ]
  },
  {
   "cell_type": "code",
   "execution_count": 10,
   "metadata": {},
   "outputs": [],
   "source": [
    "map_old = gis.map(\"122 Arabian Path, O'Fallon, MO\")\n",
    "#map_old"
   ]
  },
  {
   "cell_type": "code",
   "execution_count": 11,
   "metadata": {},
   "outputs": [],
   "source": [
    "map_new = gis.map(\"122 Arabian Path, O'Fallon, MO\")\n",
    "#map_new"
   ]
  },
  {
   "cell_type": "code",
   "execution_count": 17,
   "metadata": {},
   "outputs": [],
   "source": [
    "map_new.zoom = 14\n",
    "map_old.zoom = 14"
   ]
  },
  {
   "cell_type": "code",
   "execution_count": 13,
   "metadata": {},
   "outputs": [
    {
     "data": {
      "text/plain": [
       "4    1982-11-17 16:10:16.657\n",
       "5    1983-01-04 16:10:48.224\n",
       "10   1984-10-13 16:12:09.654\n",
       "32   1988-07-20 16:12:47.393\n",
       "34   1988-12-27 16:12:23.535\n",
       "Name: Date, dtype: datetime64[ns]"
      ]
     },
     "execution_count": 13,
     "metadata": {},
     "output_type": "execute_result"
    }
   ],
   "source": [
    "im_sdf[im_sdf['CloudCover']<.10].Date.head()"
   ]
  },
  {
   "cell_type": "code",
   "execution_count": 14,
   "metadata": {},
   "outputs": [
    {
     "data": {
      "text/plain": [
       "4     LT40240331982321XXX04\n",
       "5     LT40240331983004XXX08\n",
       "10    LT50240331984287XXX03\n",
       "32    LT50240331988202XXX03\n",
       "34    LT50240331988362XXX02\n",
       "Name: Name, dtype: object"
      ]
     },
     "execution_count": 14,
     "metadata": {},
     "output_type": "execute_result"
    }
   ],
   "source": [
    "im_sdf[im_sdf['CloudCover']<.10].Name.head()"
   ]
  },
  {
   "cell_type": "code",
   "execution_count": 16,
   "metadata": {},
   "outputs": [],
   "source": [
    "selected_oldest = ms_lyr.filter_by(where=\"Name = 'LT40240331982321XXX04'\")\n",
    "selected_newest = ms_lyr.filter_by(where=\"Name = 'LT50240332010102EDC00'\")\n",
    "\n",
    "map_old.add_layer(stretch(extract_band(selected_oldest,[2,1,0]),\n",
    "                         stretch_type='StdDev',\n",
    "                         num_stddev=2.5,\n",
    "                         dra=True))\n",
    "\n",
    "map_new.add_layer(stretch(extract_band(selected_newest,[2,1,0]),\n",
    "                         stretch_type='StdDev',\n",
    "                         num_stddev=2.5,\n",
    "                         dra=True))"
   ]
  },
  {
   "cell_type": "code",
   "execution_count": 22,
   "metadata": {},
   "outputs": [],
   "source": [
    "map_old.draw(geometry, symbol=symbol)\n",
    "map_new.draw(geometry, symbol=symbol)"
   ]
  },
  {
   "cell_type": "code",
   "execution_count": 18,
   "metadata": {},
   "outputs": [],
   "source": [
    "#import ipywidgets as widgets\n",
    "#\n",
    "#tab = widgets.Tab([map_old, map_new])\n",
    "#tab.set_title(0, '1982')\n",
    "#tab.set_title(1, '2010')\n",
    "#tab"
   ]
  },
  {
   "cell_type": "markdown",
   "metadata": {},
   "source": [
    "# Let's get NDVI pixel values at all of the rasters at that point"
   ]
  },
  {
   "cell_type": "code",
   "execution_count": null,
   "metadata": {},
   "outputs": [],
   "source": [
    "pixel_location = Point({\"x\" :-10093991.604, \"y\" : 4689459.491, \"spatialReference\" : {\"wkid\" : 102100}})\n",
    "\n",
    "time = []\n",
    "dtime = []\n",
    "pixels = []\n",
    "\n",
    "for idx,row in enumerate(im_sdf.iterrows()):\n",
    "\n",
    "\n",
    "    oid = str(row[1]['OBJECTID'])\n",
    "    \n",
    "    image_at_t = ndvi_lyr.filter_by(where=\"OBJECTID = \"+oid)#, geometry=the_geom)\n",
    "    pixel = image_at_t.identify(geometry=pixel_location)#, time_extent=t)\n",
    "    \n",
    "    print(row[1]['Date'])\n",
    "\n",
    "    try:\n",
    "        pix = [float(x) for x in pixel['value'].split(',')]\n",
    "        print(pix)\n",
    "        pixels.append(pix)\n",
    "        time.append(float(row[1]['AcquisitionDate']))\n",
    "        dtime.append(row[1]['Date'])\n",
    "    except:\n",
    "        print(\"NoData\")\n",
    "    "
   ]
  },
  {
   "cell_type": "code",
   "execution_count": null,
   "metadata": {},
   "outputs": [],
   "source": [
    "#import pickle\n",
    "\n",
    "#pixels_pickle = open(\"ndvi_vals.p\",\"wb\")\n",
    "#pickle.dump(pixels, pixels_pickle)\n",
    "#pixels_pickle.close()\n",
    "\n",
    "#dtime_pickle = open(\"dtime_vals.p\",\"wb\")\n",
    "#pickle.dump(dtime, dtime_pickle)\n",
    "#dtime_pickle.close()\n",
    "\n",
    "#time_pickle = open(\"time_vals.p\",\"wb\")\n",
    "#pickle.dump(time, time_pickle)\n",
    "#time_pickle.close()"
   ]
  },
  {
   "cell_type": "code",
   "execution_count": null,
   "metadata": {},
   "outputs": [],
   "source": [
    "import pickle\n",
    "\n",
    "pixels = pickle.load(open(\"ndvi_vals.p\",\"rb\"))\n",
    "dtime = pickle.load(open(\"dtime_vals.p\",\"rb\"))\n",
    "time = pickle.load(open(\"time_vals.p\",\"rb\"))"
   ]
  },
  {
   "cell_type": "markdown",
   "metadata": {},
   "source": [
    "# Let's put the QA Band values into it's own array"
   ]
  },
  {
   "cell_type": "code",
   "execution_count": null,
   "metadata": {},
   "outputs": [],
   "source": [
    "qa_band = []\n",
    "pixel_values = []\n",
    "for pix in pixels:\n",
    "    qa_band.append(pix[1])\n",
    "    pixel_values.append(pix[0])"
   ]
  },
  {
   "cell_type": "code",
   "execution_count": null,
   "metadata": {},
   "outputs": [],
   "source": [
    "qa_band"
   ]
  },
  {
   "cell_type": "markdown",
   "metadata": {},
   "source": [
    "# Let's plot  the harmonic curve\n",
    "\n",
    "We do this first without any filtering and it's hard to tell that there is a harmonic trend."
   ]
  },
  {
   "cell_type": "code",
   "execution_count": null,
   "metadata": {},
   "outputs": [],
   "source": [
    "%matplotlib inline\n",
    "import matplotlib.pyplot as plt\n",
    "import seaborn as sns\n",
    "\n",
    "plt.style.use('seaborn-darkgrid')\n",
    "\n",
    "fig=plt.figure(figsize=(14, 6), dpi= 80, facecolor='w', edgecolor='k')\n",
    "\n",
    "plt.plot(dtime, pixel_values, '*',label='linear') #indicde 0 is max\n",
    "plt.xlabel('Time')\n",
    "plt.ylabel('NDVI')"
   ]
  },
  {
   "cell_type": "markdown",
   "metadata": {},
   "source": [
    "## Let's Filter the QA Bands\n",
    "\n",
    "We can use the Landsat QA band to filter out snow, ice, and clouds. Here we wll apply that filter."
   ]
  },
  {
   "cell_type": "code",
   "execution_count": null,
   "metadata": {},
   "outputs": [],
   "source": [
    "LANDSAT_5_CLEAR_PIX_VALS = [672, 676, 680, 684]\n",
    "QA_BAND_IND = 1"
   ]
  },
  {
   "cell_type": "code",
   "execution_count": null,
   "metadata": {},
   "outputs": [],
   "source": [
    "clear_indices = [x for x in range(len(qa_band)) if qa_band[x] in LANDSAT_5_CLEAR_PIX_VALS]\n",
    "clear_indices"
   ]
  },
  {
   "cell_type": "markdown",
   "metadata": {},
   "source": [
    "# We can clear tis up if we sort the data"
   ]
  },
  {
   "cell_type": "markdown",
   "metadata": {},
   "source": [
    "# Let's only use times and pixels that are \"clear\""
   ]
  },
  {
   "cell_type": "code",
   "execution_count": null,
   "metadata": {},
   "outputs": [],
   "source": [
    "clear_pix = [pixel_values[val] for val in  clear_indices]\n",
    "\n",
    "clear_time = [time[x] for x in clear_indices]\n",
    "clear_dtime = [dtime[x] for x in clear_indices]"
   ]
  },
  {
   "cell_type": "code",
   "execution_count": null,
   "metadata": {},
   "outputs": [],
   "source": [
    "import numpy as np\n",
    "\n",
    "sorted_t = np.sort(clear_dtime)\n",
    "sorted_t_idx = np.argsort(clear_dtime)\n",
    "\n",
    "sorted_clear_time = np.sort(clear_time)\n",
    "\n",
    "sorted_clear_pix = [clear_pix[int(sorted_idx)] for sorted_idx in sorted_t_idx]"
   ]
  },
  {
   "cell_type": "markdown",
   "metadata": {},
   "source": [
    "# Now, what does the plot look like?"
   ]
  },
  {
   "cell_type": "code",
   "execution_count": null,
   "metadata": {},
   "outputs": [],
   "source": [
    "%matplotlib inline\n",
    "import matplotlib.pyplot as plt\n",
    "\n",
    "fig=plt.figure(figsize=(14, 6), dpi= 80, facecolor='w', edgecolor='k')\n",
    "\n",
    "plt.plot(clear_dtime, clear_pix, \"*\",label='linear') #indicde 0 is max\n",
    "plt.xlabel('Time')\n",
    "plt.ylabel('NDVI')"
   ]
  },
  {
   "cell_type": "markdown",
   "metadata": {},
   "source": [
    "# Now we can start to see the trend"
   ]
  },
  {
   "cell_type": "code",
   "execution_count": null,
   "metadata": {},
   "outputs": [],
   "source": [
    "%matplotlib inline\n",
    "import matplotlib.pyplot as plt\n",
    "\n",
    "fig=plt.figure(figsize=(14, 6), dpi= 80, facecolor='w', edgecolor='k')\n",
    "\n",
    "plt.plot(sorted_t, sorted_clear_pix,label='linear') #indicde 0 is max\n",
    "plt.xlabel('Time')\n",
    "plt.ylabel('NDVI')"
   ]
  },
  {
   "cell_type": "markdown",
   "metadata": {},
   "source": [
    "# Something changed between 1996 and 1998"
   ]
  },
  {
   "cell_type": "code",
   "execution_count": null,
   "metadata": {},
   "outputs": [],
   "source": [
    "date_df = im_sdf[im_sdf['CloudCover']<.10]\n",
    "date_df[(date_df['Date'] > '1996-01-01') & (date_df['Date'] < '1997-01-01')]"
   ]
  },
  {
   "cell_type": "code",
   "execution_count": null,
   "metadata": {},
   "outputs": [],
   "source": [
    "map_1996 = gis.map(\"122 Arabian Path, O'Fallon, MO\")\n",
    "map_1996"
   ]
  },
  {
   "cell_type": "code",
   "execution_count": null,
   "metadata": {},
   "outputs": [],
   "source": [
    "selected_1996 = ms_lyr.filter_by(where=\"Name = 'LT50240331996272XXX02'\")\n",
    "\n",
    "map_1996.add_layer(stretch(extract_band(selected_1996,[2,1,0]),\n",
    "                         stretch_type='StdDev',\n",
    "                         num_stddev=2.5,\n",
    "                         dra=True))"
   ]
  },
  {
   "cell_type": "code",
   "execution_count": null,
   "metadata": {},
   "outputs": [],
   "source": [
    "map_1996.zoom = 14\n",
    "map_1996.draw(geometry, symbol=symbol)"
   ]
  },
  {
   "cell_type": "markdown",
   "metadata": {},
   "source": [
    "# 1997"
   ]
  },
  {
   "cell_type": "code",
   "execution_count": null,
   "metadata": {},
   "outputs": [],
   "source": [
    "date_df = im_sdf[im_sdf['CloudCover']<.10]\n",
    "date_df[(date_df['Date'] > '1997-01-01') & (date_df['Date'] < '1998-01-01')].Name"
   ]
  },
  {
   "cell_type": "code",
   "execution_count": null,
   "metadata": {},
   "outputs": [],
   "source": [
    "map_1997 = gis.map(\"122 Arabian Path, O'Fallon, MO\")\n",
    "map_1997"
   ]
  },
  {
   "cell_type": "code",
   "execution_count": null,
   "metadata": {},
   "outputs": [],
   "source": [
    "selected_1997 = ms_lyr.filter_by(where=\"Name = 'LT50240331997274XXX02'\")\n",
    "\n",
    "map_1997.add_layer(stretch(extract_band(selected_1997,[2,1,0]),\n",
    "                         stretch_type='StdDev',\n",
    "                         num_stddev=2.5,\n",
    "                         dra=True))"
   ]
  },
  {
   "cell_type": "code",
   "execution_count": null,
   "metadata": {},
   "outputs": [],
   "source": [
    "map_1997.zoom = 14\n",
    "map_1997.draw(geometry, symbol=symbol)"
   ]
  },
  {
   "cell_type": "markdown",
   "metadata": {},
   "source": [
    "# Trend Analysis"
   ]
  },
  {
   "cell_type": "code",
   "execution_count": null,
   "metadata": {},
   "outputs": [],
   "source": [
    "import pandas as pd\n",
    "\n",
    "df = pd.DataFrame()\n",
    "df['Date'] = sorted_t[130:256]\n",
    "df['vals'] = sorted_clear_pix[130:256]\n",
    "df = df.set_index('Date')\n",
    "df.index = pd.to_datetime(df.index)"
   ]
  },
  {
   "cell_type": "code",
   "execution_count": null,
   "metadata": {},
   "outputs": [],
   "source": [
    "df"
   ]
  },
  {
   "cell_type": "code",
   "execution_count": null,
   "metadata": {},
   "outputs": [],
   "source": [
    "import warnings\n",
    "import itertools\n",
    "import numpy as np\n",
    "import matplotlib.pyplot as plt\n",
    "warnings.filterwarnings(\"ignore\")\n",
    "plt.style.use('fivethirtyeight')\n",
    "import pandas as pd\n",
    "import statsmodels.api as sm\n",
    "import matplotlib\n",
    "matplotlib.rcParams['axes.labelsize'] = 14\n",
    "matplotlib.rcParams['xtick.labelsize'] = 12\n",
    "matplotlib.rcParams['ytick.labelsize'] = 12\n",
    "matplotlib.rcParams['text.color'] = 'k'"
   ]
  },
  {
   "cell_type": "code",
   "execution_count": null,
   "metadata": {},
   "outputs": [],
   "source": [
    "from pylab import rcParams\n",
    "rcParams['figure.figsize'] = 18, 8\n",
    "decomposition = sm.tsa.seasonal_decompose(df, freq=12)\n",
    "fig = decomposition.plot()\n",
    "plt.show()"
   ]
  },
  {
   "cell_type": "markdown",
   "metadata": {},
   "source": [
    "https://medium.com/@josemarcialportilla/using-python-and-auto-arima-to-forecast-seasonal-time-series-90877adff03c"
   ]
  },
  {
   "cell_type": "code",
   "execution_count": null,
   "metadata": {},
   "outputs": [],
   "source": [
    "decomposition.trend"
   ]
  },
  {
   "cell_type": "code",
   "execution_count": null,
   "metadata": {},
   "outputs": [],
   "source": []
  }
 ],
 "metadata": {
  "kernelspec": {
   "display_name": "Python 3",
   "language": "python",
   "name": "python3"
  },
  "language_info": {
   "codemirror_mode": {
    "name": "ipython",
    "version": 3
   },
   "file_extension": ".py",
   "mimetype": "text/x-python",
   "name": "python",
   "nbconvert_exporter": "python",
   "pygments_lexer": "ipython3",
   "version": "3.6.9"
  }
 },
 "nbformat": 4,
 "nbformat_minor": 2
}
