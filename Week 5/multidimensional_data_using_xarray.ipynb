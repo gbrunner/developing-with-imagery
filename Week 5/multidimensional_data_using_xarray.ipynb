{
 "cells": [
  {
   "cell_type": "markdown",
   "metadata": {},
   "source": [
    "# NetCDF using Xarray\n",
    "\n",
    "Following a similar pattern as found at [TowardDataScience](https://towardsdatascience.com/handling-netcdf-files-using-xarray-for-absolute-beginners-111a8ab4463f)"
   ]
  },
  {
   "cell_type": "code",
   "execution_count": 1,
   "metadata": {},
   "outputs": [],
   "source": [
    "import xarray as xr"
   ]
  },
  {
   "cell_type": "markdown",
   "metadata": {},
   "source": [
    "## Define our input file"
   ]
  },
  {
   "cell_type": "code",
   "execution_count": 2,
   "metadata": {},
   "outputs": [],
   "source": [
    "netcdf_file = r'C:\\Users\\greg6750\\Documents\\IPython Notebooks\\developing-with-imagery\\Data\\daymet_v3_tmin_monavg_2017_na.nc4'"
   ]
  },
  {
   "cell_type": "markdown",
   "metadata": {},
   "source": [
    "## Open the file\n",
    "\n",
    "If we wanted to open multiple files, we can do that with a wildcard \"*\", but we need to also have ```dask``` insatlled."
   ]
  },
  {
   "cell_type": "code",
   "execution_count": 3,
   "metadata": {},
   "outputs": [],
   "source": [
    "\n",
    "# single file\n",
    "#dataDIR = '../data/ARM/twparmbeatmC1.c1.20050101.000000.cdf'\n",
    "DS = xr.open_dataset(netcdf_file)\n",
    "\n",
    "# OR multiple files - this require DASK\n",
    "#mfdataDIR = '../data/ARM/twparmbeatmC1.c1.*.000000.cdf'\n",
    "#DS = xr.open_mfdataset(mfdataDIR)"
   ]
  },
  {
   "cell_type": "markdown",
   "metadata": {},
   "source": [
    "## Looking at the temperature data\n",
    "\n",
    "We can isolate the temperature array as follows."
   ]
  },
  {
   "cell_type": "code",
   "execution_count": 4,
   "metadata": {},
   "outputs": [
    {
     "data": {
      "text/html": [
       "<pre>&lt;xarray.DataArray &#x27;tmin&#x27; (time: 12, y: 8075, x: 7814)&gt;\n",
       "[757176600 values with dtype=float32]\n",
       "Coordinates:\n",
       "    lat      (y, x) float32 ...\n",
       "    lon      (y, x) float32 ...\n",
       "  * time     (time) datetime64[ns] 2017-01-16T12:00:00 ... 2017-12-17\n",
       "  * x        (x) float32 -4560250.0 -4559250.0 ... 3251750.0 3252750.0\n",
       "  * y        (y) float32 4984000.0 4983000.0 4982000.0 ... -3089000.0 -3090000.0\n",
       "Attributes:\n",
       "    grid_mapping:  lambert_conformal_conic\n",
       "    units:         degrees C\n",
       "    cell_methods:  area: mean time: minimum within days time: mean over days\n",
       "    long_name:     monthly average of daily minimum temperature</pre>"
      ],
      "text/plain": [
       "<xarray.DataArray 'tmin' (time: 12, y: 8075, x: 7814)>\n",
       "[757176600 values with dtype=float32]\n",
       "Coordinates:\n",
       "    lat      (y, x) float32 ...\n",
       "    lon      (y, x) float32 ...\n",
       "  * time     (time) datetime64[ns] 2017-01-16T12:00:00 ... 2017-12-17\n",
       "  * x        (x) float32 -4560250.0 -4559250.0 ... 3251750.0 3252750.0\n",
       "  * y        (y) float32 4984000.0 4983000.0 4982000.0 ... -3089000.0 -3090000.0\n",
       "Attributes:\n",
       "    grid_mapping:  lambert_conformal_conic\n",
       "    units:         degrees C\n",
       "    cell_methods:  area: mean time: minimum within days time: mean over days\n",
       "    long_name:     monthly average of daily minimum temperature"
      ]
     },
     "execution_count": 4,
     "metadata": {},
     "output_type": "execute_result"
    }
   ],
   "source": [
    "DS['tmin']"
   ]
  },
  {
   "cell_type": "markdown",
   "metadata": {},
   "source": [
    "## Temperature as numpy array\n",
    "\n",
    "we can cnvert the dataset to a numpy array by calling the [```values```](http://xarray.pydata.org/en/stable/howdoi.html)."
   ]
  },
  {
   "cell_type": "code",
   "execution_count": 5,
   "metadata": {},
   "outputs": [
    {
     "data": {
      "text/plain": [
       "array([[[nan, nan, nan, ..., nan, nan, nan],\n",
       "        [nan, nan, nan, ..., nan, nan, nan],\n",
       "        [nan, nan, nan, ..., nan, nan, nan],\n",
       "        ...,\n",
       "        [nan, nan, nan, ..., nan, nan, nan],\n",
       "        [nan, nan, nan, ..., nan, nan, nan],\n",
       "        [nan, nan, nan, ..., nan, nan, nan]],\n",
       "\n",
       "       [[nan, nan, nan, ..., nan, nan, nan],\n",
       "        [nan, nan, nan, ..., nan, nan, nan],\n",
       "        [nan, nan, nan, ..., nan, nan, nan],\n",
       "        ...,\n",
       "        [nan, nan, nan, ..., nan, nan, nan],\n",
       "        [nan, nan, nan, ..., nan, nan, nan],\n",
       "        [nan, nan, nan, ..., nan, nan, nan]],\n",
       "\n",
       "       [[nan, nan, nan, ..., nan, nan, nan],\n",
       "        [nan, nan, nan, ..., nan, nan, nan],\n",
       "        [nan, nan, nan, ..., nan, nan, nan],\n",
       "        ...,\n",
       "        [nan, nan, nan, ..., nan, nan, nan],\n",
       "        [nan, nan, nan, ..., nan, nan, nan],\n",
       "        [nan, nan, nan, ..., nan, nan, nan]],\n",
       "\n",
       "       ...,\n",
       "\n",
       "       [[nan, nan, nan, ..., nan, nan, nan],\n",
       "        [nan, nan, nan, ..., nan, nan, nan],\n",
       "        [nan, nan, nan, ..., nan, nan, nan],\n",
       "        ...,\n",
       "        [nan, nan, nan, ..., nan, nan, nan],\n",
       "        [nan, nan, nan, ..., nan, nan, nan],\n",
       "        [nan, nan, nan, ..., nan, nan, nan]],\n",
       "\n",
       "       [[nan, nan, nan, ..., nan, nan, nan],\n",
       "        [nan, nan, nan, ..., nan, nan, nan],\n",
       "        [nan, nan, nan, ..., nan, nan, nan],\n",
       "        ...,\n",
       "        [nan, nan, nan, ..., nan, nan, nan],\n",
       "        [nan, nan, nan, ..., nan, nan, nan],\n",
       "        [nan, nan, nan, ..., nan, nan, nan]],\n",
       "\n",
       "       [[nan, nan, nan, ..., nan, nan, nan],\n",
       "        [nan, nan, nan, ..., nan, nan, nan],\n",
       "        [nan, nan, nan, ..., nan, nan, nan],\n",
       "        ...,\n",
       "        [nan, nan, nan, ..., nan, nan, nan],\n",
       "        [nan, nan, nan, ..., nan, nan, nan],\n",
       "        [nan, nan, nan, ..., nan, nan, nan]]], dtype=float32)"
      ]
     },
     "execution_count": 5,
     "metadata": {},
     "output_type": "execute_result"
    }
   ],
   "source": [
    "DS['tmin'].values"
   ]
  },
  {
   "cell_type": "markdown",
   "metadata": {},
   "source": [
    "## Other properties of the dataset"
   ]
  },
  {
   "cell_type": "code",
   "execution_count": 6,
   "metadata": {},
   "outputs": [
    {
     "data": {
      "text/plain": [
       "<bound method ImplementsDatasetReduce._reduce_method.<locals>.wrapped_func of <xarray.Dataset>\n",
       "Dimensions:                  (nv: 2, time: 12, x: 7814, y: 8075)\n",
       "Coordinates:\n",
       "    lat                      (y, x) float32 ...\n",
       "    lon                      (y, x) float32 ...\n",
       "  * time                     (time) datetime64[ns] 2017-01-16T12:00:00 ... 2017-12-17\n",
       "  * x                        (x) float32 -4560250.0 -4559250.0 ... 3252750.0\n",
       "  * y                        (y) float32 4984000.0 4983000.0 ... -3090000.0\n",
       "Dimensions without coordinates: nv\n",
       "Data variables:\n",
       "    time_bnds                (time, nv) datetime64[ns] ...\n",
       "    lambert_conformal_conic  int16 ...\n",
       "    tmin                     (time, y, x) float32 nan nan nan ... nan nan nan\n",
       "Attributes:\n",
       "    start_year:                2017\n",
       "    source:                    Daymet Software Version 3.0\n",
       "    Version_software:          Daymet Software Version 3.0\n",
       "    Version_data:              Daymet Data Version 3.0\n",
       "    Conventions:               CF-1.6\n",
       "    citation:                  Please see http://daymet.ornl.gov/ for current...\n",
       "    references:                Please see http://daymet.ornl.gov/ for current...\n",
       "    nco_openmp_thread_number:  1\n",
       "    NCO:                       \"4.6.0\">"
      ]
     },
     "execution_count": 6,
     "metadata": {},
     "output_type": "execute_result"
    }
   ],
   "source": [
    "DS.var"
   ]
  },
  {
   "cell_type": "code",
   "execution_count": 7,
   "metadata": {},
   "outputs": [
    {
     "data": {
      "text/plain": [
       "Frozen(SortedKeysDict({'time': 12, 'nv': 2, 'y': 8075, 'x': 7814}))"
      ]
     },
     "execution_count": 7,
     "metadata": {},
     "output_type": "execute_result"
    }
   ],
   "source": [
    "DS.dims"
   ]
  },
  {
   "cell_type": "code",
   "execution_count": 8,
   "metadata": {},
   "outputs": [
    {
     "data": {
      "text/plain": [
       "Coordinates:\n",
       "    lat      (y, x) float32 ...\n",
       "    lon      (y, x) float32 ...\n",
       "  * time     (time) datetime64[ns] 2017-01-16T12:00:00 ... 2017-12-17\n",
       "  * x        (x) float32 -4560250.0 -4559250.0 ... 3251750.0 3252750.0\n",
       "  * y        (y) float32 4984000.0 4983000.0 4982000.0 ... -3089000.0 -3090000.0"
      ]
     },
     "execution_count": 8,
     "metadata": {},
     "output_type": "execute_result"
    }
   ],
   "source": [
    "DS.coords"
   ]
  },
  {
   "cell_type": "code",
   "execution_count": 9,
   "metadata": {},
   "outputs": [
    {
     "data": {
      "text/plain": [
       "{'start_year': 2017, 'source': 'Daymet Software Version 3.0', 'Version_software': 'Daymet Software Version 3.0', 'Version_data': 'Daymet Data Version 3.0', 'Conventions': 'CF-1.6', 'citation': 'Please see http://daymet.ornl.gov/ for current Daymet data citation information', 'references': 'Please see http://daymet.ornl.gov/ for current information on Daymet references', 'nco_openmp_thread_number': 1, 'NCO': '\"4.6.0\"'}"
      ]
     },
     "execution_count": 9,
     "metadata": {},
     "output_type": "execute_result"
    }
   ],
   "source": [
    "DS.attrs"
   ]
  },
  {
   "cell_type": "markdown",
   "metadata": {},
   "source": [
    "## We can slice through the data"
   ]
  },
  {
   "cell_type": "code",
   "execution_count": 10,
   "metadata": {},
   "outputs": [
    {
     "data": {
      "text/html": [
       "<pre>&lt;xarray.Dataset&gt;\n",
       "Dimensions:                  (nv: 2, time: 12, x: 7814, y: 8075)\n",
       "Coordinates:\n",
       "    lat                      (y, x) float32 ...\n",
       "    lon                      (y, x) float32 ...\n",
       "  * time                     (time) datetime64[ns] 2017-01-16T12:00:00 ... 2017-12-17\n",
       "  * x                        (x) float32 -4560250.0 -4559250.0 ... 3252750.0\n",
       "  * y                        (y) float32 4984000.0 4983000.0 ... -3090000.0\n",
       "Dimensions without coordinates: nv\n",
       "Data variables:\n",
       "    time_bnds                (time, nv) datetime64[ns] ...\n",
       "    lambert_conformal_conic  int16 ...\n",
       "    tmin                     (time, y, x) float32 nan nan nan ... nan nan nan\n",
       "Attributes:\n",
       "    start_year:                2017\n",
       "    source:                    Daymet Software Version 3.0\n",
       "    Version_software:          Daymet Software Version 3.0\n",
       "    Version_data:              Daymet Data Version 3.0\n",
       "    Conventions:               CF-1.6\n",
       "    citation:                  Please see http://daymet.ornl.gov/ for current...\n",
       "    references:                Please see http://daymet.ornl.gov/ for current...\n",
       "    nco_openmp_thread_number:  1\n",
       "    NCO:                       &quot;4.6.0&quot;</pre>"
      ],
      "text/plain": [
       "<xarray.Dataset>\n",
       "Dimensions:                  (nv: 2, time: 12, x: 7814, y: 8075)\n",
       "Coordinates:\n",
       "    lat                      (y, x) float32 ...\n",
       "    lon                      (y, x) float32 ...\n",
       "  * time                     (time) datetime64[ns] 2017-01-16T12:00:00 ... 2017-12-17\n",
       "  * x                        (x) float32 -4560250.0 -4559250.0 ... 3252750.0\n",
       "  * y                        (y) float32 4984000.0 4983000.0 ... -3090000.0\n",
       "Dimensions without coordinates: nv\n",
       "Data variables:\n",
       "    time_bnds                (time, nv) datetime64[ns] ...\n",
       "    lambert_conformal_conic  int16 ...\n",
       "    tmin                     (time, y, x) float32 nan nan nan ... nan nan nan\n",
       "Attributes:\n",
       "    start_year:                2017\n",
       "    source:                    Daymet Software Version 3.0\n",
       "    Version_software:          Daymet Software Version 3.0\n",
       "    Version_data:              Daymet Data Version 3.0\n",
       "    Conventions:               CF-1.6\n",
       "    citation:                  Please see http://daymet.ornl.gov/ for current...\n",
       "    references:                Please see http://daymet.ornl.gov/ for current...\n",
       "    nco_openmp_thread_number:  1\n",
       "    NCO:                       \"4.6.0\""
      ]
     },
     "execution_count": 10,
     "metadata": {},
     "output_type": "execute_result"
    }
   ],
   "source": [
    "da = DS.sel(time=slice('2017-01-01', '2017-12-31'))\n",
    "da"
   ]
  },
  {
   "cell_type": "code",
   "execution_count": 11,
   "metadata": {},
   "outputs": [
    {
     "data": {
      "text/html": [
       "<pre>&lt;xarray.Dataset&gt;\n",
       "Dimensions:                  (nv: 2, time: 1, x: 7814, y: 8075)\n",
       "Coordinates:\n",
       "    lat                      (y, x) float32 ...\n",
       "    lon                      (y, x) float32 ...\n",
       "  * time                     (time) datetime64[ns] 2017-12-17\n",
       "  * x                        (x) float32 -4560250.0 -4559250.0 ... 3252750.0\n",
       "  * y                        (y) float32 4984000.0 4983000.0 ... -3090000.0\n",
       "Dimensions without coordinates: nv\n",
       "Data variables:\n",
       "    time_bnds                (time, nv) datetime64[ns] ...\n",
       "    lambert_conformal_conic  int16 ...\n",
       "    tmin                     (time, y, x) float32 nan nan nan ... nan nan nan\n",
       "Attributes:\n",
       "    start_year:                2017\n",
       "    source:                    Daymet Software Version 3.0\n",
       "    Version_software:          Daymet Software Version 3.0\n",
       "    Version_data:              Daymet Data Version 3.0\n",
       "    Conventions:               CF-1.6\n",
       "    citation:                  Please see http://daymet.ornl.gov/ for current...\n",
       "    references:                Please see http://daymet.ornl.gov/ for current...\n",
       "    nco_openmp_thread_number:  1\n",
       "    NCO:                       &quot;4.6.0&quot;</pre>"
      ],
      "text/plain": [
       "<xarray.Dataset>\n",
       "Dimensions:                  (nv: 2, time: 1, x: 7814, y: 8075)\n",
       "Coordinates:\n",
       "    lat                      (y, x) float32 ...\n",
       "    lon                      (y, x) float32 ...\n",
       "  * time                     (time) datetime64[ns] 2017-12-17\n",
       "  * x                        (x) float32 -4560250.0 -4559250.0 ... 3252750.0\n",
       "  * y                        (y) float32 4984000.0 4983000.0 ... -3090000.0\n",
       "Dimensions without coordinates: nv\n",
       "Data variables:\n",
       "    time_bnds                (time, nv) datetime64[ns] ...\n",
       "    lambert_conformal_conic  int16 ...\n",
       "    tmin                     (time, y, x) float32 nan nan nan ... nan nan nan\n",
       "Attributes:\n",
       "    start_year:                2017\n",
       "    source:                    Daymet Software Version 3.0\n",
       "    Version_software:          Daymet Software Version 3.0\n",
       "    Version_data:              Daymet Data Version 3.0\n",
       "    Conventions:               CF-1.6\n",
       "    citation:                  Please see http://daymet.ornl.gov/ for current...\n",
       "    references:                Please see http://daymet.ornl.gov/ for current...\n",
       "    nco_openmp_thread_number:  1\n",
       "    NCO:                       \"4.6.0\""
      ]
     },
     "execution_count": 11,
     "metadata": {},
     "output_type": "execute_result"
    }
   ],
   "source": [
    "da = DS.sel(time=slice('2017-12-01', '2017-12-31'))\n",
    "da"
   ]
  },
  {
   "cell_type": "code",
   "execution_count": 13,
   "metadata": {},
   "outputs": [
    {
     "data": {
      "text/html": [
       "<pre>&lt;xarray.DataArray &#x27;tmin&#x27; (time: 1, y: 8075, x: 7814)&gt;\n",
       "array([[[nan, nan, ..., nan, nan],\n",
       "        [nan, nan, ..., nan, nan],\n",
       "        ...,\n",
       "        [nan, nan, ..., nan, nan],\n",
       "        [nan, nan, ..., nan, nan]]], dtype=float32)\n",
       "Coordinates:\n",
       "    lat      (y, x) float32 ...\n",
       "    lon      (y, x) float32 ...\n",
       "  * time     (time) datetime64[ns] 2017-12-17\n",
       "  * x        (x) float32 -4560250.0 -4559250.0 ... 3251750.0 3252750.0\n",
       "  * y        (y) float32 4984000.0 4983000.0 4982000.0 ... -3089000.0 -3090000.0\n",
       "Attributes:\n",
       "    grid_mapping:  lambert_conformal_conic\n",
       "    units:         degrees C\n",
       "    cell_methods:  area: mean time: minimum within days time: mean over days\n",
       "    long_name:     monthly average of daily minimum temperature</pre>"
      ],
      "text/plain": [
       "<xarray.DataArray 'tmin' (time: 1, y: 8075, x: 7814)>\n",
       "array([[[nan, nan, ..., nan, nan],\n",
       "        [nan, nan, ..., nan, nan],\n",
       "        ...,\n",
       "        [nan, nan, ..., nan, nan],\n",
       "        [nan, nan, ..., nan, nan]]], dtype=float32)\n",
       "Coordinates:\n",
       "    lat      (y, x) float32 ...\n",
       "    lon      (y, x) float32 ...\n",
       "  * time     (time) datetime64[ns] 2017-12-17\n",
       "  * x        (x) float32 -4560250.0 -4559250.0 ... 3251750.0 3252750.0\n",
       "  * y        (y) float32 4984000.0 4983000.0 4982000.0 ... -3089000.0 -3090000.0\n",
       "Attributes:\n",
       "    grid_mapping:  lambert_conformal_conic\n",
       "    units:         degrees C\n",
       "    cell_methods:  area: mean time: minimum within days time: mean over days\n",
       "    long_name:     monthly average of daily minimum temperature"
      ]
     },
     "execution_count": 13,
     "metadata": {},
     "output_type": "execute_result"
    }
   ],
   "source": [
    "da['tmin']"
   ]
  },
  {
   "cell_type": "code",
   "execution_count": 14,
   "metadata": {},
   "outputs": [
    {
     "data": {
      "text/plain": [
       "(1, 8075, 7814)"
      ]
     },
     "execution_count": 14,
     "metadata": {},
     "output_type": "execute_result"
    }
   ],
   "source": [
    "array = da['tmin'].values\n",
    "array.shape"
   ]
  },
  {
   "cell_type": "markdown",
   "metadata": {},
   "source": [
    "## Plotting a slice"
   ]
  },
  {
   "cell_type": "code",
   "execution_count": 15,
   "metadata": {},
   "outputs": [],
   "source": [
    "import matplotlib.pyplot as plt"
   ]
  },
  {
   "cell_type": "code",
   "execution_count": 16,
   "metadata": {},
   "outputs": [],
   "source": [
    "plt.imshow(array[0,:,:])\n",
    "plt.show()"
   ]
  },
  {
   "cell_type": "code",
   "execution_count": null,
   "metadata": {},
   "outputs": [],
   "source": []
  }
 ],
 "metadata": {
  "kernelspec": {
   "display_name": "ArcGISPro",
   "language": "Python",
   "name": "python3"
  },
  "language_info": {
   "file_extension": ".py",
   "name": "python",
   "version": "3"
  }
 },
 "nbformat": 4,
 "nbformat_minor": 2
}
