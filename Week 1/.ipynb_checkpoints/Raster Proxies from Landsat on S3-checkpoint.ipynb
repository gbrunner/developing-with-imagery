{
 "cells": [
  {
   "cell_type": "code",
   "execution_count": 1,
   "metadata": {},
   "outputs": [],
   "source": [
    "import datetime\n",
    "import os\n",
    "from subprocess import Popen,PIPE"
   ]
  },
  {
   "cell_type": "code",
   "execution_count": 2,
   "metadata": {},
   "outputs": [],
   "source": [
    "def get_extension(filepath):\n",
    "    splits = filepath.split(\".\")\n",
    "    if len(splits) == 1:\n",
    "       ext = ''\n",
    "    else:\n",
    "       ext = splits[len(splits) - 1]\n",
    "    return ext"
   ]
  },
  {
   "cell_type": "code",
   "execution_count": 3,
   "metadata": {},
   "outputs": [],
   "source": [
    "def get_basename(filepath):\n",
    "    base_name = os.path.basename(filepath)\n",
    "    return os.path.splitext(base_name)[0]"
   ]
  },
  {
   "cell_type": "code",
   "execution_count": 7,
   "metadata": {},
   "outputs": [],
   "source": [
    "def create_raster_proxy(s3path=None):\n",
    "\n",
    "    stime = datetime.datetime.utcnow()\n",
    "\n",
    "\n",
    "    cache_dir = r'Z:\\mrf'\n",
    "    proxy_dir = r'C:\\Users\\greg6750\\Documents\\IPython Notebooks\\developing-with-imagery\\Week 1'\n",
    "    proxy_ext = 'mrf'\n",
    "\n",
    "    ds_name = os.path.basename(s3path)\n",
    "    ds_noext = get_basename(ds_name)\n",
    "    ds_ext = get_extension(s3path)\n",
    "\n",
    "    #proto = 'vsis3'\n",
    "    proto = 'vsicurl' #landsat\n",
    "    #proto = 'vsiaz'\n",
    "\n",
    "    s3_key = '/{0}/{1}'.format(proto,s3path).replace('\\n','').replace('\\r','')\n",
    "    if not os.path.isdir(proxy_dir):\n",
    "        os.mkdir(proxy_dir)\n",
    "\n",
    "\n",
    "    data_name = '{0}/{1}.mrf_cache'.format(cache_dir,ds_noext)\n",
    "    proxy_path = '{0}/{1}.{2}'.format(proxy_dir,ds_noext,proxy_ext)\n",
    "\n",
    "    print(s3_key)\n",
    "    \n",
    "    if os.path.exists(proxy_path):\n",
    "        print(proxy_path + ' exists.')\n",
    "    else:\n",
    "        gdal_translate_location = r\"C:\\PROJECTS\\OptimizeRasters\\GDAL\\bin\\gdal_translate.exe\"\n",
    "        gdal_translate = [gdal_translate_location,'-of', 'MRF', '-co', 'NOCOPY=TRUE', '-co','BLOCKSIZE=512','-co','UNIFORM_SCALE=2','-co','COMPRESS=LERC','-co', 'OPTIONS=\"V2=ON\"']#, '-co', 'AWS_S3_ENDPOINT=https://s3.us-west-2.amazonaws.com', '-co','AWS_VIRTUAL_HOSTING=no']\n",
    "        gdal_translate.extend([s3_key, proxy_path, '-co', 'CACHEDSOURCE={0}'.format(s3_key), '-co', 'DATANAME={0}'.format(data_name),'-co', 'INDEXNAME={0}'.format(data_name)])\n",
    "        gdal_process = Popen(gdal_translate, shell=True, stdout=PIPE, stderr=PIPE)\n",
    "        stdout, stderr = gdal_process.communicate()\n",
    "        if stderr:\n",
    "            print(\"GDAL stderr:\",\"DEBUG\")\n",
    "            print(stderr,\"DEBUG\")\n",
    "\n",
    "\n",
    "    return proxy_dir"
   ]
  },
  {
   "cell_type": "code",
   "execution_count": 8,
   "metadata": {},
   "outputs": [
    {
     "name": "stdout",
     "output_type": "stream",
     "text": [
      "/vsicurl/http://landsatarchives.s3.amazonaws.com/C1/ETM/004/025/1999/LE07_L1GT_004025_19990816_20170217_01_T2/LE07_L1GT_004025_19990816_20170217_01_T2_B1.tif\n",
      "Done.\n"
     ]
    }
   ],
   "source": [
    "image_list = ['http://landsatarchives.s3.amazonaws.com/C1/ETM/004/025/1999/LE07_L1GT_004025_19990816_20170217_01_T2/LE07_L1GT_004025_19990816_20170217_01_T2_B1.tif']\n",
    "\n",
    "for image in image_list:\n",
    "    create_raster_proxy(image)\n",
    "    \n",
    "print('Done.')\n"
   ]
  },
  {
   "cell_type": "code",
   "execution_count": null,
   "metadata": {},
   "outputs": [],
   "source": []
  }
 ],
 "metadata": {
  "kernelspec": {
   "display_name": "Python 3",
   "language": "python",
   "name": "python3"
  },
  "language_info": {
   "codemirror_mode": {
    "name": "ipython",
    "version": 3
   },
   "file_extension": ".py",
   "mimetype": "text/x-python",
   "name": "python",
   "nbconvert_exporter": "python",
   "pygments_lexer": "ipython3",
   "version": "3.6.8"
  }
 },
 "nbformat": 4,
 "nbformat_minor": 2
}
