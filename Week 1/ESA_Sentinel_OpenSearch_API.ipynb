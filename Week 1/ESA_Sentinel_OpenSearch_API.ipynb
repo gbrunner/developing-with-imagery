{
 "cells": [
  {
   "cell_type": "code",
   "execution_count": 45,
   "metadata": {},
   "outputs": [],
   "source": [
    "from arcgis.geometry import Envelope\n",
    "from arcgis.gis import GIS\n",
    "\n",
    "from pyproj import Proj, transform\n",
    "import pandas as pd\n",
    "import requests\n",
    "import json\n",
    "\n",
    "from IPython.display import Image, HTML, display"
   ]
  },
  {
   "cell_type": "markdown",
   "metadata": {},
   "source": [
    "# Provide Credentials for the Copernicus Open Access Hub\n",
    "Details on how to set up your free account can be found @ https://scihub.copernicus.eu/userguide/SelfRegistration"
   ]
  },
  {
   "cell_type": "code",
   "execution_count": 2,
   "metadata": {},
   "outputs": [],
   "source": [
    "dhus_url = '***'\n",
    "username = '***'\n",
    "password = '***'"
   ]
  },
  {
   "cell_type": "markdown",
   "metadata": {},
   "source": [
    "# Create Map for Extent Definition\n",
    "* You will need to pan or zoom in the map before proceeding. The default extent is goofy and a \"finished\" notebook will handle the extent before and after the map has been manipulated."
   ]
  },
  {
   "cell_type": "code",
   "execution_count": 96,
   "metadata": {},
   "outputs": [
    {
     "data": {
      "application/vnd.jupyter.widget-view+json": {
       "model_id": "bd060390f9a74657998592eccbf70f1f",
       "version_major": 2,
       "version_minor": 0
      },
      "text/plain": [
       "MapView(layout=Layout(height='400px', width='100%'))"
      ]
     },
     "metadata": {},
     "output_type": "display_data"
    },
    {
     "data": {
      "text/html": [
       "<div class=\"map-static-img-preview-b0b53c68-2c78-479b-b068-e47170de58e4\"><img src=\"\"></img></div>"
      ],
      "text/plain": [
       "<IPython.core.display.HTML object>"
      ]
     },
     "metadata": {},
     "output_type": "display_data"
    }
   ],
   "source": [
    "ext_map = GIS().map('Boca de Acre, Brazil')\n",
    "# ext_map.basemap = 'satellite'\n",
    "ext_map"
   ]
  },
  {
   "cell_type": "markdown",
   "metadata": {},
   "source": [
    "# Convert Map Extent to WKT"
   ]
  },
  {
   "cell_type": "code",
   "execution_count": 87,
   "metadata": {},
   "outputs": [
    {
     "data": {
      "text/plain": [
       "'POLYGON ((-67.48144247103565 -8.571843813194329, -67.48144247103565 -8.503940214344922, -67.312527676114 -8.503940214344922, -67.312527676114 -8.571843813194329, -67.48144247103565 -8.571843813194329))'"
      ]
     },
     "execution_count": 87,
     "metadata": {},
     "output_type": "execute_result"
    }
   ],
   "source": [
    "map_bounds = Envelope(ext_map.extent).polygon\n",
    "\n",
    "proj_a = Proj(init='epsg:3857')\n",
    "proj_b = Proj(init='epsg:4326')\n",
    "\n",
    "proj_coords = [transform(proj_a, proj_b, coord[0], coord[1]) for coord in map_bounds.coordinates()[0]]\n",
    "proj_string = str(f\"({tuple(['{} {}'.format(*coord) for coord in proj_coords ])})\")\n",
    "proj_string = proj_string.replace(\"'\", \"\")\n",
    "wkt_ext = f'POLYGON {proj_string}'\n",
    "wkt_ext"
   ]
  },
  {
   "cell_type": "markdown",
   "metadata": {},
   "source": [
    "# Format Query\n",
    "More information on how to interact with the various API resources can be found at the following resources:\n",
    "* https://scihub.copernicus.eu/userguide/OpenSearchAPI\n",
    "* https://scihub.copernicus.eu/userguide/ODataAPI"
   ]
  },
  {
   "cell_type": "code",
   "execution_count": 88,
   "metadata": {},
   "outputs": [
    {
     "data": {
      "text/plain": [
       "'footprint:\"Intersects(POLYGON ((-67.48144247103565 -8.571843813194329, -67.48144247103565 -8.503940214344922, -67.312527676114 -8.503940214344922, -67.312527676114 -8.571843813194329, -67.48144247103565 -8.571843813194329)))\" AND filename:S2A_* AND platformname:Sentinel-2 AND producttype:S2MSI2A'"
      ]
     },
     "execution_count": 88,
     "metadata": {},
     "output_type": "execute_result"
    }
   ],
   "source": [
    "geom = f'footprint:\"Intersects({wkt_ext})\"'\n",
    "name = 'filename:S2A_*'\n",
    "plat = 'platformname:Sentinel-2'\n",
    "prod = 'producttype:S2MSI2A'  # Bottom-of-Atmosphere\n",
    "\n",
    "clcv = 'cloudcoverpercentage:95'\n",
    "igst = 'ingestiondate:[NOW-1DAY TO NOW]'\n",
    "\n",
    "query = f\"{' AND '.join([geom, name, plat, prod])}\"\n",
    "query"
   ]
  },
  {
   "cell_type": "markdown",
   "metadata": {},
   "source": [
    "# Submit Request to API"
   ]
  },
  {
   "cell_type": "code",
   "execution_count": 89,
   "metadata": {},
   "outputs": [
    {
     "name": "stdout",
     "output_type": "stream",
     "text": [
      "Reponse Stats: 200\n"
     ]
    }
   ],
   "source": [
    "payload = {\n",
    "    'orderby': 'ingestiondate desc',\n",
    "    'format': 'json',\n",
    "    'rows': 20,\n",
    "    'q': query,\n",
    "}\n",
    "\n",
    "response = requests.get(dhus_url, params=payload, auth=(username, password))\n",
    "print(f'Reponse Stats: {response.status_code}')"
   ]
  },
  {
   "cell_type": "markdown",
   "metadata": {},
   "source": [
    "# Ensure Products Were Returned Before Proceeding"
   ]
  },
  {
   "cell_type": "code",
   "execution_count": 90,
   "metadata": {},
   "outputs": [
    {
     "name": "stdout",
     "output_type": "stream",
     "text": [
      "Found: 20\n"
     ]
    }
   ],
   "source": [
    "results = response.json()['feed']\n",
    "\n",
    "if 'entry' not in results.keys():\n",
    "    print('No Results')\n",
    "    \n",
    "else:\n",
    "    print(f'Found: {len(results[\"entry\"])}')"
   ]
  },
  {
   "cell_type": "markdown",
   "metadata": {},
   "source": [
    "# First Product Result\n",
    "Observe how the various attributes of a given product are broken down into types; e.g. date, int, double, or str."
   ]
  },
  {
   "cell_type": "code",
   "execution_count": 91,
   "metadata": {},
   "outputs": [
    {
     "name": "stdout",
     "output_type": "stream",
     "text": [
      "{\n",
      "  \"title\": \"S2A_MSIL2A_20190909T144731_N0213_R139_T19LFL_20190909T185341\",\n",
      "  \"link\": [\n",
      "    {\n",
      "      \"href\": \"https://scihub.copernicus.eu/dhus/odata/v1/Products('f1727070-fb5e-4a75-b89d-35ee4106eb58')/$value\"\n",
      "    },\n",
      "    {\n",
      "      \"rel\": \"alternative\",\n",
      "      \"href\": \"https://scihub.copernicus.eu/dhus/odata/v1/Products('f1727070-fb5e-4a75-b89d-35ee4106eb58')/\"\n",
      "    },\n",
      "    {\n",
      "      \"rel\": \"icon\",\n",
      "      \"href\": \"https://scihub.copernicus.eu/dhus/odata/v1/Products('f1727070-fb5e-4a75-b89d-35ee4106eb58')/Products('Quicklook')/$value\"\n",
      "    }\n",
      "  ],\n",
      "  \"id\": \"f1727070-fb5e-4a75-b89d-35ee4106eb58\",\n",
      "  \"summary\": \"Date: 2019-09-09T14:47:31.024Z, Instrument: MSI, Mode: , Satellite: Sentinel-2, Size: 1.06 GB\",\n",
      "  \"date\": [\n",
      "    {\n",
      "      \"name\": \"beginposition\",\n",
      "      \"content\": \"2019-09-09T14:47:31.024Z\"\n",
      "    },\n",
      "    {\n",
      "      \"name\": \"endposition\",\n",
      "      \"content\": \"2019-09-09T14:47:31.024Z\"\n",
      "    },\n",
      "    {\n",
      "      \"name\": \"ingestiondate\",\n",
      "      \"content\": \"2019-09-09T23:42:45.771Z\"\n",
      "    }\n",
      "  ],\n",
      "  \"int\": [\n",
      "    {\n",
      "      \"name\": \"orbitnumber\",\n",
      "      \"content\": \"22015\"\n",
      "    },\n",
      "    {\n",
      "      \"name\": \"relativeorbitnumber\",\n",
      "      \"content\": \"139\"\n",
      "    }\n",
      "  ],\n",
      "  \"double\": [\n",
      "    {\n",
      "      \"name\": \"cloudcoverpercentage\",\n",
      "      \"content\": \"0.523306\"\n",
      "    },\n",
      "    {\n",
      "      \"name\": \"highprobacloudspercentage\",\n",
      "      \"content\": \"0.31042\"\n",
      "    },\n",
      "    {\n",
      "      \"name\": \"mediumprobacloudspercentage\",\n",
      "      \"content\": \"0.208476\"\n",
      "    },\n",
      "    {\n",
      "      \"name\": \"snowicepercentage\",\n",
      "      \"content\": \"0.0\"\n",
      "    },\n",
      "    {\n",
      "      \"name\": \"vegetationpercentage\",\n",
      "      \"content\": \"96.731913\"\n",
      "    },\n",
      "    {\n",
      "      \"name\": \"waterpercentage\",\n",
      "      \"content\": \"0.484799\"\n",
      "    },\n",
      "    {\n",
      "      \"name\": \"notvegetatedpercentage\",\n",
      "      \"content\": \"1.357773\"\n",
      "    },\n",
      "    {\n",
      "      \"name\": \"unclassifiedpercentage\",\n",
      "      \"content\": \"0.259953\"\n",
      "    }\n",
      "  ],\n",
      "  \"str\": [\n",
      "    {\n",
      "      \"name\": \"gmlfootprint\",\n",
      "      \"content\": \"<gml:Polygon srsName=\\\"http://www.opengis.net/gml/srs/epsg.xml#4326\\\" xmlns:gml=\\\"http://www.opengis.net/gml\\\">\\n   <gml:outerBoundaryIs>\\n      <gml:LinearRing>\\n         <gml:coordinates>-8.141019404873006,-68.092285 -8.137569234098178,-67.095856 -9.130185891265603,-67.09088 -9.134063464840283,-68.089905 -8.141019404873006,-68.092285</gml:coordinates>\\n      </gml:LinearRing>\\n   </gml:outerBoundaryIs>\\n</gml:Polygon>\"\n",
      "    },\n",
      "    {\n",
      "      \"name\": \"format\",\n",
      "      \"content\": \"SAFE\"\n",
      "    },\n",
      "    {\n",
      "      \"name\": \"instrumentshortname\",\n",
      "      \"content\": \"MSI\"\n",
      "    },\n",
      "    {\n",
      "      \"name\": \"instrumentname\",\n",
      "      \"content\": \"Multi-Spectral Instrument\"\n",
      "    },\n",
      "    {\n",
      "      \"name\": \"footprint\",\n",
      "      \"content\": \"MULTIPOLYGON (((-68.089905 -9.134063464840283, -67.09088 -9.130185891265603, -67.095856 -8.137569234098178, -68.092285 -8.141019404873006, -68.089905 -9.134063464840283)))\"\n",
      "    },\n",
      "    {\n",
      "      \"name\": \"s2datatakeid\",\n",
      "      \"content\": \"GS2A_20190909T144731_022015_N02.13\"\n",
      "    },\n",
      "    {\n",
      "      \"name\": \"platformidentifier\",\n",
      "      \"content\": \"2015-028A\"\n",
      "    },\n",
      "    {\n",
      "      \"name\": \"orbitdirection\",\n",
      "      \"content\": \"DESCENDING\"\n",
      "    },\n",
      "    {\n",
      "      \"name\": \"platformserialidentifier\",\n",
      "      \"content\": \"Sentinel-2A\"\n",
      "    },\n",
      "    {\n",
      "      \"name\": \"processingbaseline\",\n",
      "      \"content\": \"02.13\"\n",
      "    },\n",
      "    {\n",
      "      \"name\": \"processinglevel\",\n",
      "      \"content\": \"Level-2A\"\n",
      "    },\n",
      "    {\n",
      "      \"name\": \"producttype\",\n",
      "      \"content\": \"S2MSI2A\"\n",
      "    },\n",
      "    {\n",
      "      \"name\": \"platformname\",\n",
      "      \"content\": \"Sentinel-2\"\n",
      "    },\n",
      "    {\n",
      "      \"name\": \"size\",\n",
      "      \"content\": \"1.06 GB\"\n",
      "    },\n",
      "    {\n",
      "      \"name\": \"filename\",\n",
      "      \"content\": \"S2A_MSIL2A_20190909T144731_N0213_R139_T19LFL_20190909T185341.SAFE\"\n",
      "    },\n",
      "    {\n",
      "      \"name\": \"level1cpdiidentifier\",\n",
      "      \"content\": \"S2A_OPER_MSI_L1C_TL_SGS__20190909T181019_A022015_T19LFL_N02.08\"\n",
      "    },\n",
      "    {\n",
      "      \"name\": \"identifier\",\n",
      "      \"content\": \"S2A_MSIL2A_20190909T144731_N0213_R139_T19LFL_20190909T185341\"\n",
      "    },\n",
      "    {\n",
      "      \"name\": \"uuid\",\n",
      "      \"content\": \"f1727070-fb5e-4a75-b89d-35ee4106eb58\"\n",
      "    }\n",
      "  ]\n",
      "}\n"
     ]
    }
   ],
   "source": [
    "print(json.dumps(results['entry'][0], indent=2))"
   ]
  },
  {
   "cell_type": "markdown",
   "metadata": {},
   "source": [
    "# Convert Results into a Data Frame"
   ]
  },
  {
   "cell_type": "code",
   "execution_count": 92,
   "metadata": {
    "scrolled": false
   },
   "outputs": [
    {
     "data": {
      "text/html": [
       "<div>\n",
       "<style scoped>\n",
       "    .dataframe tbody tr th:only-of-type {\n",
       "        vertical-align: middle;\n",
       "    }\n",
       "\n",
       "    .dataframe tbody tr th {\n",
       "        vertical-align: top;\n",
       "    }\n",
       "\n",
       "    .dataframe thead th {\n",
       "        text-align: right;\n",
       "    }\n",
       "</style>\n",
       "<table border=\"1\" class=\"dataframe\">\n",
       "  <thead>\n",
       "    <tr style=\"text-align: right;\">\n",
       "      <th></th>\n",
       "      <th>guid</th>\n",
       "      <th>data</th>\n",
       "      <th>size</th>\n",
       "      <th>look</th>\n",
       "      <th>igst</th>\n",
       "      <th>cdcv</th>\n",
       "    </tr>\n",
       "  </thead>\n",
       "  <tbody>\n",
       "    <tr>\n",
       "      <th>0</th>\n",
       "      <td>f1727070-fb5e-4a75-b89d-35ee4106eb58</td>\n",
       "      <td>https://scihub.copernicus.eu/dhus/odata/v1/Pro...</td>\n",
       "      <td>1.06 GB</td>\n",
       "      <td>https://scihub.copernicus.eu/dhus/odata/v1/Pro...</td>\n",
       "      <td>2019-09-09 23:42:45.771000+00:00</td>\n",
       "      <td>0.523306</td>\n",
       "    </tr>\n",
       "    <tr>\n",
       "      <th>1</th>\n",
       "      <td>09f71706-2646-4e06-bb5d-e7f2c5e67cde</td>\n",
       "      <td>https://scihub.copernicus.eu/dhus/odata/v1/Pro...</td>\n",
       "      <td>1.07 GB</td>\n",
       "      <td>https://scihub.copernicus.eu/dhus/odata/v1/Pro...</td>\n",
       "      <td>2019-08-30 23:39:23.896000+00:00</td>\n",
       "      <td>0.341976</td>\n",
       "    </tr>\n",
       "    <tr>\n",
       "      <th>2</th>\n",
       "      <td>bdf92034-5e44-4fff-944b-43fe0315e8e7</td>\n",
       "      <td>https://scihub.copernicus.eu/dhus/odata/v1/Pro...</td>\n",
       "      <td>869.28 MB</td>\n",
       "      <td>https://scihub.copernicus.eu/dhus/odata/v1/Pro...</td>\n",
       "      <td>2019-08-21 03:06:27.414000+00:00</td>\n",
       "      <td>85.203205</td>\n",
       "    </tr>\n",
       "    <tr>\n",
       "      <th>3</th>\n",
       "      <td>ca461179-e47f-433b-a29f-e7705e8c03d3</td>\n",
       "      <td>https://scihub.copernicus.eu/dhus/odata/v1/Pro...</td>\n",
       "      <td>1.07 GB</td>\n",
       "      <td>https://scihub.copernicus.eu/dhus/odata/v1/Pro...</td>\n",
       "      <td>2019-08-10 23:55:22.032000+00:00</td>\n",
       "      <td>2.557284</td>\n",
       "    </tr>\n",
       "    <tr>\n",
       "      <th>4</th>\n",
       "      <td>b9db1734-a0e8-41e5-bdff-5566c11dbfc6</td>\n",
       "      <td>https://scihub.copernicus.eu/dhus/odata/v1/Pro...</td>\n",
       "      <td>1.06 GB</td>\n",
       "      <td>https://scihub.copernicus.eu/dhus/odata/v1/Pro...</td>\n",
       "      <td>2019-08-01 02:11:51.257000+00:00</td>\n",
       "      <td>0.008872</td>\n",
       "    </tr>\n",
       "  </tbody>\n",
       "</table>\n",
       "</div>"
      ],
      "text/plain": [
       "                                   guid  \\\n",
       "0  f1727070-fb5e-4a75-b89d-35ee4106eb58   \n",
       "1  09f71706-2646-4e06-bb5d-e7f2c5e67cde   \n",
       "2  bdf92034-5e44-4fff-944b-43fe0315e8e7   \n",
       "3  ca461179-e47f-433b-a29f-e7705e8c03d3   \n",
       "4  b9db1734-a0e8-41e5-bdff-5566c11dbfc6   \n",
       "\n",
       "                                                data       size  \\\n",
       "0  https://scihub.copernicus.eu/dhus/odata/v1/Pro...    1.06 GB   \n",
       "1  https://scihub.copernicus.eu/dhus/odata/v1/Pro...    1.07 GB   \n",
       "2  https://scihub.copernicus.eu/dhus/odata/v1/Pro...  869.28 MB   \n",
       "3  https://scihub.copernicus.eu/dhus/odata/v1/Pro...    1.07 GB   \n",
       "4  https://scihub.copernicus.eu/dhus/odata/v1/Pro...    1.06 GB   \n",
       "\n",
       "                                                look  \\\n",
       "0  https://scihub.copernicus.eu/dhus/odata/v1/Pro...   \n",
       "1  https://scihub.copernicus.eu/dhus/odata/v1/Pro...   \n",
       "2  https://scihub.copernicus.eu/dhus/odata/v1/Pro...   \n",
       "3  https://scihub.copernicus.eu/dhus/odata/v1/Pro...   \n",
       "4  https://scihub.copernicus.eu/dhus/odata/v1/Pro...   \n",
       "\n",
       "                              igst       cdcv  \n",
       "0 2019-09-09 23:42:45.771000+00:00   0.523306  \n",
       "1 2019-08-30 23:39:23.896000+00:00   0.341976  \n",
       "2 2019-08-21 03:06:27.414000+00:00  85.203205  \n",
       "3 2019-08-10 23:55:22.032000+00:00   2.557284  \n",
       "4 2019-08-01 02:11:51.257000+00:00   0.008872  "
      ]
     },
     "execution_count": 92,
     "metadata": {},
     "output_type": "execute_result"
    }
   ],
   "source": [
    "result_info = []\n",
    "\n",
    "for result in results['entry']:\n",
    "    \n",
    "    guid = result['id']\n",
    "    data = [l['href'] for l in result['link'] if len(l.keys()) == 1][0]\n",
    "    size = [l['content'] for l in result['str'] if l['name'] == 'size'][0]\n",
    "    look = [l['href'] for l in result['link'] if 'Quicklook' in l['href']][0]\n",
    "    igst = [d['content'] for d in result['date'] if d['name'] == 'ingestiondate'][0]\n",
    "    cdcv = [m['content'] for m in result['double'] if m['name'] == 'cloudcoverpercentage'][0]\n",
    "    \n",
    "    result_info.append({\n",
    "        'guid': guid,\n",
    "        'data': data,\n",
    "        'size': size,\n",
    "        'look': look,\n",
    "        'igst': igst,\n",
    "        'cdcv': cdcv\n",
    "    })\n",
    "    \n",
    "result_df = pd.DataFrame(result_info)\n",
    "\n",
    "# Set Time Fields\n",
    "result_df['igst'] = pd.to_datetime(result_df['igst'])\n",
    "result_df.head()"
   ]
  },
  {
   "cell_type": "markdown",
   "metadata": {},
   "source": [
    "# Collect Most Recent Product w/ Least Cloud Cover"
   ]
  },
  {
   "cell_type": "code",
   "execution_count": 93,
   "metadata": {},
   "outputs": [
    {
     "data": {
      "text/plain": [
       "guid                 f1727070-fb5e-4a75-b89d-35ee4106eb58\n",
       "data    https://scihub.copernicus.eu/dhus/odata/v1/Pro...\n",
       "size                                              1.06 GB\n",
       "look    https://scihub.copernicus.eu/dhus/odata/v1/Pro...\n",
       "igst                     2019-09-09 23:42:45.771000+00:00\n",
       "cdcv                                             0.523306\n",
       "Name: 0, dtype: object"
      ]
     },
     "execution_count": 93,
     "metadata": {},
     "output_type": "execute_result"
    }
   ],
   "source": [
    "udates = list(result_df['igst'].map(lambda t: t.date()).unique())[0]\n",
    "\n",
    "recent = result_df[result_df['igst'] >= udates.strftime('%Y-%m-%d')].copy()\n",
    "recent.sort_values('cdcv', inplace=True)\n",
    "\n",
    "target = recent.iloc[0]\n",
    "target"
   ]
  },
  {
   "cell_type": "markdown",
   "metadata": {},
   "source": [
    "# View Image & Download\n",
    "* Download Target Image will let you pull down the actual product. \n",
    "* If Image does not disply, follow the URL to load your credentials into the browser, then refresh this cell. A \"finished\" notebook would pass your Open Access Hub Credentials and avoid this extra step."
   ]
  },
  {
   "cell_type": "code",
   "execution_count": 94,
   "metadata": {},
   "outputs": [
    {
     "data": {
      "text/html": [
       "<img src=\"https://scihub.copernicus.eu/dhus/odata/v1/Products('f1727070-fb5e-4a75-b89d-35ee4106eb58')/Products('Quicklook')/$value\"/>"
      ],
      "text/plain": [
       "<IPython.core.display.Image object>"
      ]
     },
     "metadata": {},
     "output_type": "display_data"
    },
    {
     "data": {
      "text/html": [
       "<a href=\"https://scihub.copernicus.eu/dhus/odata/v1/Products('f1727070-fb5e-4a75-b89d-35ee4106eb58')/$value\" target=\"_blank\">Download Target Image</a>"
      ],
      "text/plain": [
       "<IPython.core.display.HTML object>"
      ]
     },
     "metadata": {},
     "output_type": "display_data"
    }
   ],
   "source": [
    "display(Image(url=target.look))\n",
    "display(HTML(f'''<a href=\"{target['data']}\" target=\"_blank\">Download Target Image</a>'''))"
   ]
  },
  {
   "cell_type": "code",
   "execution_count": null,
   "metadata": {},
   "outputs": [],
   "source": []
  }
 ],
 "metadata": {
  "kernelspec": {
   "display_name": "Python 3",
   "language": "python",
   "name": "python3"
  },
  "language_info": {
   "codemirror_mode": {
    "name": "ipython",
    "version": 3
   },
   "file_extension": ".py",
   "mimetype": "text/x-python",
   "name": "python",
   "nbconvert_exporter": "python",
   "pygments_lexer": "ipython3",
   "version": "3.7.4"
  }
 },
 "nbformat": 4,
 "nbformat_minor": 2
}
